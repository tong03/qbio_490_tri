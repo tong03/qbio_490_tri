{
 "cells": [
  {
   "cell_type": "code",
   "execution_count": 1,
   "id": "71b6e0f2",
   "metadata": {},
   "outputs": [
    {
     "name": "stdout",
     "output_type": "stream",
     "text": [
      "Checking that ccrcc index is up-to-date...\r"
     ]
    },
    {
     "name": "stderr",
     "output_type": "stream",
     "text": [
      "cptac warning: Your version of cptac (1.1.2) is out-of-date. Latest is 1.5.7. Please run 'pip install --upgrade cptac' to update it. (/root/miniconda3/envs/qbio_490_tritong/lib/python3.9/threading.py, line 917)\n"
     ]
    },
    {
     "name": "stdout",
     "output_type": "stream",
     "text": [
      "                                          \r"
     ]
    }
   ],
   "source": [
    "import os\n",
    "os.chdir(r'/root/qbio_490_tritong/analysis_data')\n",
    "# Load the CCRCC Data\n",
    "import cptac\n",
    "# cptac.download(dataset=\"Ccrcc\")\n",
    "renal = cptac.Ccrcc()"
   ]
  },
  {
   "cell_type": "code",
   "execution_count": 2,
   "id": "f2a058a9",
   "metadata": {},
   "outputs": [],
   "source": [
    "import numpy as np\n",
    "import pandas as pd\n",
    "import matplotlib.pyplot as plt\n",
    "import seaborn as sns\n",
    "# Load in protein expressions\n",
    "protein_data = renal.get_proteomics()\n",
    "protein_data.columns = protein_data.columns.get_level_values(0) \n",
    "# Load in RNA expression\n",
    "rna_data = renal.get_transcriptomics()\n",
    "# Load in clinical data\n",
    "clinical_data = renal.get_clinical()\n",
    "\n",
    "# clinical_data = 194 x 171\n",
    "# rna_data = 185 x 19275\n",
    "# protein_data = 194 x 11710\n",
    "\n",
    "# Find the overlapping patients between rna and clinical\n",
    "patient_shared = np.intersect1d(np.intersect1d(clinical_data.index, rna_data.index), protein_data.index)\n",
    "\n",
    "# filter out to only shared patients\n",
    "clinical_data = clinical_data.loc[patient_shared, :]\n",
    "protein_data = protein_data.loc[patient_shared, :]\n",
    "rna_data = rna_data.loc[patient_shared, :]"
   ]
  },
  {
   "cell_type": "code",
   "execution_count": 33,
   "id": "8637e93b",
   "metadata": {},
   "outputs": [],
   "source": [
    "gene_shared = np.intersect1d(rna_data.columns, protein_data.columns)\n",
    "protein_data = protein_data[gene_shared]\n",
    "rna_data = rna_data[gene_shared]\n",
    "# protein_data = 185 x 11501\n",
    "# rna_data = 185 x 11031 "
   ]
  },
  {
   "cell_type": "code",
   "execution_count": 35,
   "id": "aa0622a4",
   "metadata": {},
   "outputs": [],
   "source": [
    "# clinical_data['tumor_stage_pathological']\n",
    "na_stage_mask = np.where(clinical_data['tumor_stage_pathological'].isna(), False, True)\n",
    "\n",
    "cleaned_clinical = clinical_data[na_stage_mask]\n",
    "# cleaned_clinical = 110 x 171\n",
    "# cleaned_clinical['tumor_stage_pathological'].unique()\n",
    "\n",
    "# protein_data filter out to only Stage I to III\n",
    "protein_cleaned = protein_data[na_stage_mask]\n",
    "\n",
    "# rna_data filter out to only Stage I to III\n",
    "rna_cleaned = rna_data[na_stage_mask]\n",
    "\n",
    "stage3_mask = np.where(cleaned_clinical['tumor_stage_pathological'] == 'Stage III', True, False)\n",
    "stage1_mask = np.where(cleaned_clinical['tumor_stage_pathological'] == 'Stage I', True, False)\n",
    "# protein_data.loc[:, 'GDF6'] # ZNF676"
   ]
  },
  {
   "cell_type": "code",
   "execution_count": 5,
   "id": "23e74518",
   "metadata": {},
   "outputs": [
    {
     "data": {
      "text/plain": [
       "Name\n",
       "LDB3      1.911659\n",
       "BTBD7     1.814474\n",
       "GDF6      1.646855\n",
       "COX4I2    1.501131\n",
       "SNCB      1.494579\n",
       "            ...   \n",
       "ZNF195         NaN\n",
       "ZNF275         NaN\n",
       "ZNF507         NaN\n",
       "ZNF71          NaN\n",
       "ZNF823         NaN\n",
       "Length: 11501, dtype: float64"
      ]
     },
     "execution_count": 5,
     "metadata": {},
     "output_type": "execute_result"
    }
   ],
   "source": [
    "# Find top 5 differentially expressed proteins\n",
    "np.abs(protein_cleaned[stage3_mask].mean() - protein_cleaned[stage1_mask].mean()).sort_values(ascending=False)\n",
    "\n",
    "# LDB3      1.911659\n",
    "# BTBD7     1.814474\n",
    "# GDF6      1.646855\n",
    "# COX4I2    1.501131\n",
    "# SNCB      1.494579"
   ]
  },
  {
   "cell_type": "code",
   "execution_count": 6,
   "id": "fd6d3b2d",
   "metadata": {},
   "outputs": [
    {
     "name": "stderr",
     "output_type": "stream",
     "text": [
      "/root/miniconda3/envs/qbio_490_tritong/lib/python3.9/site-packages/pandas/core/internals/blocks.py:366: RuntimeWarning: divide by zero encountered in log2\n",
      "  result = func(self.values, **kwargs)\n"
     ]
    },
    {
     "data": {
      "text/plain": [
       "Name\n",
       "AJAP1     1.738594\n",
       "DPEP1     1.540969\n",
       "GALNT5    1.513785\n",
       "FABP7     1.352365\n",
       "HP        1.284551\n",
       "            ...   \n",
       "XDH            NaN\n",
       "XIRP2          NaN\n",
       "ZBTB9          NaN\n",
       "ZFY            NaN\n",
       "ZG16           NaN\n",
       "Length: 10874, dtype: float64"
      ]
     },
     "execution_count": 6,
     "metadata": {},
     "output_type": "execute_result"
    }
   ],
   "source": [
    "# Find top 5 differentially expressed rna\n",
    "rna_log = np.log2(rna_cleaned)\n",
    "values = np.abs(rna_log[stage3_mask].mean() - rna_log[stage1_mask].mean())\n",
    "# Filter out inf values and then sort\n",
    "inf_mask = np.where(np.isinf(values), False, True)\n",
    "values_cleaned = values[inf_mask]\n",
    "values_cleaned.sort_values(ascending=False)\n",
    "\n",
    "# AJAP1     1.738594\n",
    "# DPEP1     1.540969\n",
    "# GALNT5    1.513785\n",
    "# FABP7     1.352365\n",
    "# HP        1.284551"
   ]
  },
  {
   "cell_type": "code",
   "execution_count": 36,
   "id": "bff20b97",
   "metadata": {},
   "outputs": [],
   "source": [
    "# from sklearn.preprocessing import OrdinalEncoder\n",
    "gene_list = ['LDB3', 'BTBD7', 'GDF6', 'COX4I2', 'SNCB', 'AJAP1', 'DPEP1', 'GALNT5', 'FABP7','HP']\n",
    "select_protein = protein_cleaned[gene_list]\n",
    "select_rna = rna_cleaned[gene_list]\n",
    "\n",
    "# encoder = OrdinalEncoder()\n",
    "# unencoded = cleaned_clinical.loc[:, ['tumor_stage_pathological']]\n",
    "# encoded = encoder.fit_transform(unencoded)\n",
    "# cleaned_clinical.loc[:, ['tumor_stage_pathological']] = encoded\n",
    "\n",
    "target_stages = cleaned_clinical['tumor_stage_pathological']"
   ]
  },
  {
   "cell_type": "code",
   "execution_count": 40,
   "id": "1e296e0a",
   "metadata": {},
   "outputs": [],
   "source": [
    "import numpy as np # support for arrays and vectorized operations\n",
    "import pandas as pd # support for DataFrames and Series\n",
    "import matplotlib.pyplot as plt # main graphing library\n",
    "import warnings\n",
    "warnings.filterwarnings('ignore')\n",
    "from sklearn.preprocessing import StandardScaler\n",
    "from sklearn.model_selection import train_test_split\n",
    "from sklearn import datasets\n",
    "from sklearn.neighbors import KNeighborsClassifier # default number of neighbors looked at is 5\n",
    "from sklearn.tree import DecisionTreeClassifier\n",
    "from sklearn.neural_network import MLPClassifier\n",
    "from sklearn.naive_bayes import GaussianNB\n",
    "\n",
    "classifiers = [DecisionTreeClassifier(),\n",
    "             KNeighborsClassifier(),\n",
    "             MLPClassifier(),\n",
    "              GaussianNB()]\n"
   ]
  },
  {
   "cell_type": "code",
   "execution_count": 45,
   "id": "43781a5a",
   "metadata": {},
   "outputs": [
    {
     "data": {
      "text/plain": [
       "<BarContainer object of 4 artists>"
      ]
     },
     "execution_count": 45,
     "metadata": {},
     "output_type": "execute_result"
    },
    {
     "data": {
      "image/png": "[encoded data removed]",
      "text/plain": [
       "<Figure size 1200x500 with 1 Axes>"
      ]
     },
     "metadata": {},
     "output_type": "display_data"
    }
   ],
   "source": [
    "classifier_names = [\"Decision Tree\", \"KNeighbors\", \"MLP\", \"GaussianNB\"]\n",
    "plt.rcParams['figure.figsize'] = [12, 5]\n",
    "scores = []\n",
    "# outer loop will switch classifiers\n",
    "for i in range(4):\n",
    "    total = 0\n",
    "    # inner loop perform 10 runs for each classifiers to find the average result\n",
    "    for j in range(10):\n",
    "        X_train, X_test, y_train, y_test = train_test_split(select_rna, target_stages, \n",
    "                                                            train_size=0.70)\n",
    "        classifiers[i].fit(X_train, y_train)\n",
    "        score = classifiers[i].score(np.array(X_test), y_test)\n",
    "        total += score\n",
    "    # append the average accuracy score to the scores list\n",
    "    scores.append(total/10)\n",
    "plt.bar(classifier_names, scores)"
   ]
  },
  {
   "cell_type": "markdown",
   "id": "4b0d9b02",
   "metadata": {},
   "source": [
    "\n",
    "Based on the results of the 4 mean accuracies, the MLP model appears to be the best with about 45%\n",
    "accuracy, while the GausssianNB model is consistently the worst, with an average of below 30% accuracy"
   ]
  }
 ],
 "metadata": {
  "kernelspec": {
   "display_name": "Python 3 (ipykernel)",
   "language": "python",
   "name": "python3"
  },
  "language_info": {
   "codemirror_mode": {
    "name": "ipython",
    "version": 3
   },
   "file_extension": ".py",
   "mimetype": "text/x-python",
   "name": "python",
   "nbconvert_exporter": "python",
   "pygments_lexer": "ipython3",
   "version": "3.9.18"
  }
 },
 "nbformat": 4,
 "nbformat_minor": 5
}
